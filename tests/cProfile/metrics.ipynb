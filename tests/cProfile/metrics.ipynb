{
 "cells": [
  {
   "cell_type": "code",
   "execution_count": 3,
   "metadata": {},
   "outputs": [
    {
     "name": "stdout",
     "output_type": "stream",
     "text": [
      "The snakeviz extension is already loaded. To reload it, use:\n",
      "  %reload_ext snakeviz\n",
      " \n",
      "*** Profile stats marshalled to file 'C:\\\\Users\\\\User\\\\AppData\\\\Local\\\\Temp\\\\tmpa3lq7jkp'.\n",
      "Embedding SnakeViz in this document...\n",
      "<function display at 0x0000022A491FD120>\n"
     ]
    },
    {
     "data": {
      "text/html": [
       "\n",
       "<iframe id='snakeviz-893e8af4-ffc6-11ef-a3c1-ac198e29b53a' frameborder=0 seamless width='100%' height='1000'></iframe>\n",
       "<script>document.getElementById(\"snakeviz-893e8af4-ffc6-11ef-a3c1-ac198e29b53a\").setAttribute(\"src\", \"http://\" + document.location.hostname + \":8080/snakeviz/C%3A%5CUsers%5CUser%5CAppData%5CLocal%5CTemp%5Ctmpa3lq7jkp\")</script>\n"
      ],
      "text/plain": [
       "<IPython.core.display.HTML object>"
      ]
     },
     "metadata": {},
     "output_type": "display_data"
    }
   ],
   "source": [
    "import random\n",
    "\n",
    "def main():\n",
    "    arr = []\n",
    "    for i in range(4000):\n",
    "        x = pow(i, 2)\n",
    "        y = x / (i - 1 + 1e-8)\n",
    "        arr.append(x)\n",
    "        arr.append(y)\n",
    "\n",
    "        generate()\n",
    "\n",
    "def generate():\n",
    "    data = [random.randint(0, 99) for p in range(0, 1000)]\n",
    "    return data\n",
    "\n",
    "%load_ext snakeviz\n",
    "%snakeviz main()\n",
    "\n"
   ]
  }
 ],
 "metadata": {
  "kernelspec": {
   "display_name": "pytorch",
   "language": "python",
   "name": "python3"
  },
  "language_info": {
   "codemirror_mode": {
    "name": "ipython",
    "version": 3
   },
   "file_extension": ".py",
   "mimetype": "text/x-python",
   "name": "python",
   "nbconvert_exporter": "python",
   "pygments_lexer": "ipython3",
   "version": "3.12.3"
  }
 },
 "nbformat": 4,
 "nbformat_minor": 2
}
